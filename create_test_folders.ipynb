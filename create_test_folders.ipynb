{
 "cells": [
  {
   "cell_type": "code",
   "execution_count": 11,
   "metadata": {},
   "outputs": [
    {
     "name": "stderr",
     "output_type": "stream",
     "text": [
      "Making train and test sets: 100%|██████████| 514/514 [00:27<00:00, 18.56it/s]\n"
     ]
    }
   ],
   "source": [
    "# run this script after extracting the dataset into a folder called \"archive\"\n",
    "import os\n",
    "import shutil\n",
    "import random\n",
    "from tqdm import tqdm\n",
    "\n",
    "def make_train_val(folder, divider: int):\n",
    "    train_folder, val_folder = f\"{folder}_train\", f\"{folder}_test_only\"\n",
    "    # for every sub folder in folder\n",
    "    for label in tqdm(os.listdir(folder), desc=\"Making train and test sets\"):\n",
    "        # if label is not a folder\n",
    "        if not os.path.isdir(os.path.join(folder, label)):\n",
    "            continue\n",
    "        # make train and val sub folders\n",
    "        os.makedirs(os.path.join(train_folder, label), exist_ok=True)\n",
    "        os.makedirs(os.path.join(val_folder, label), exist_ok=True)\n",
    "        # for every file in sub folder\n",
    "        filenames = os.listdir(os.path.join(folder, label))\n",
    "        random.shuffle(filenames)\n",
    "        modulo = min(len(filenames), divider) # val is 1/5th but should contain at least 1 element\n",
    "        for i in range(len(filenames)):\n",
    "            if i % modulo == 0:\n",
    "                shutil.copy(os.path.join(folder, label, filenames[i]), os.path.join(val_folder, label, filenames[i]))\n",
    "            else:\n",
    "                shutil.copy(os.path.join(folder, label, filenames[i]), os.path.join(train_folder, label, filenames[i]))\n",
    "\n",
    "os.rename(\"./archive/vinted_train\", \"./archive/vinted\")\n",
    "make_train_val(folder=\"archive/vinted\", divider=5)\n",
    "shutil.rmtree(\"./archive/vinted\")"
   ]
  },
  {
   "cell_type": "code",
   "execution_count": 12,
   "metadata": {},
   "outputs": [
    {
     "name": "stderr",
     "output_type": "stream",
     "text": [
      "Removing classes with less than 100 images: 100%|██████████| 514/514 [00:00<00:00, 1539.32it/s]\n"
     ]
    }
   ],
   "source": [
    "# then run this script to remove all classes with not enough images\n",
    "# for example, if you have less than X images in the folder vinted_train you can remove it\n",
    "\n",
    "min_nr_images = 100\n",
    "\n",
    "for folder in [\"./archive/vinted_train\"]:\n",
    "    for label in tqdm(os.listdir(folder), desc=f\"Removing classes with less than {min_nr_images} images\"):\n",
    "        if not os.path.isdir(os.path.join(folder, label)):\n",
    "            continue\n",
    "        if len(os.listdir(os.path.join(folder, label))) < min_nr_images:\n",
    "            shutil.rmtree(os.path.join(folder, label))\n",
    "            if os.path.isdir(os.path.join(\"./archive/vinted_val\", label)):\n",
    "                shutil.rmtree(os.path.join(\"./archive/vinted_val\", label))\n",
    "            if os.path.isdir(os.path.join(\"./archive/vinted_test_only\", label)):\n",
    "                shutil.rmtree(os.path.join(\"./archive/vinted_test_only\", label))"
   ]
  }
 ],
 "metadata": {
  "interpreter": {
   "hash": "99a09a28db2abc902dc27962799ddbecdaff6b4113c1c96ddbf0d99fba103f0a"
  },
  "kernelspec": {
   "display_name": "Python 3.8.10 ('env': venv)",
   "language": "python",
   "name": "python3"
  },
  "language_info": {
   "codemirror_mode": {
    "name": "ipython",
    "version": 3
   },
   "file_extension": ".py",
   "mimetype": "text/x-python",
   "name": "python",
   "nbconvert_exporter": "python",
   "pygments_lexer": "ipython3",
   "version": "3.8.10"
  },
  "orig_nbformat": 4
 },
 "nbformat": 4,
 "nbformat_minor": 2
}
