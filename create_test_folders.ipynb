{
 "cells": [
  {
   "cell_type": "code",
   "execution_count": 1,
   "metadata": {},
   "outputs": [],
   "source": [
    "# run this script after extracting the dataset into a folder called \"archive\"\n",
    "# it creates new folders with only a few classes\n",
    "\n",
    "import os\n",
    "import shutil\n",
    "import random\n",
    "from tqdm import tqdm\n",
    "import json\n",
    "\n",
    "\n",
    "def merge_folders(source_root,source_dir_list, target_dir):\n",
    "\n",
    "    \"\"\"\n",
    "    Merge two folders into one\n",
    "    \"\"\"\n",
    "    if not os.path.exists(target_dir):\n",
    "        os.mkdir(target_dir)\n",
    "    for source_dir in source_dir_list:\n",
    "        full_path_source = os.path.join(source_root, source_dir)\n",
    "        for root, dirs, files in os.walk(full_path_source):\n",
    "            for file in files:\n",
    "                shutil.copy(os.path.join(root, file), os.path.join(target_dir, file))\n",
    "\n",
    "\n",
    "def merge_folders_from_dict(source_path, destination_path):\n",
    "    \"\"\"\"\"\"\n",
    "\n",
    "    if not os.path.exists(destination_path):\n",
    "        os.mkdir(destination_path)\n",
    "\n",
    "    categories ={}\n",
    "    with open('final_classes.json', 'r') as dict_reader:\n",
    "        categories=json.load(dict_reader)\n",
    "\n",
    "    for k, v in categories.items():\n",
    "        target_dir = os.path.join(destination_path, k) \n",
    "        #print(f'the target directory is: {target_dir}') \n",
    "        merge_folders(source_path,v, target_dir)\n",
    "\n",
    "merge_folders_from_dict('./archive/vinted_train', './archive/vinted_train_merged_folder')\n",
    "merge_folders_from_dict('./archive/vinted_val', './archive/vinted_val_merged_folder')\n",
    "shutil.rmtree('./archive/vinted_train')\n",
    "shutil.rmtree('./archive/vinted_val')\n",
    "os.rename('./archive/vinted_train_merged_folder', './archive/vinted_train')\n",
    "os.rename('./archive/vinted_val_merged_folder', './archive/vinted_val')\n"
   ]
  },
  {
   "cell_type": "code",
   "execution_count": 2,
   "metadata": {},
   "outputs": [
    {
     "name": "stderr",
     "output_type": "stream",
     "text": [
      "Making train and test sets: 100%|██████████| 21/21 [00:32<00:00,  1.53s/it]\n"
     ]
    }
   ],
   "source": [
    "\n",
    "import os\n",
    "import shutil\n",
    "import random\n",
    "from tqdm import tqdm\n",
    "\n",
    "def make_train_val(folder, divider: int):\n",
    "    train_folder, val_folder = f\"{folder}_train\", f\"{folder}_test_only\"\n",
    "    # for every sub folder in folder\n",
    "    for label in tqdm(os.listdir(folder), desc=\"Making train and test sets\"):\n",
    "        # if label is not a folder\n",
    "        if not os.path.isdir(os.path.join(folder, label)):\n",
    "            continue\n",
    "        # make train and val sub folders\n",
    "        os.makedirs(os.path.join(train_folder, label), exist_ok=True)\n",
    "        os.makedirs(os.path.join(val_folder, label), exist_ok=True)\n",
    "        # for every file in sub folder\n",
    "        filenames = os.listdir(os.path.join(folder, label))\n",
    "        random.shuffle(filenames)\n",
    "        modulo = min(len(filenames), divider) # val is 1/5th but should contain at least 1 element\n",
    "        for i in range(len(filenames)):\n",
    "            if i % modulo == 0:\n",
    "                shutil.copy(os.path.join(folder, label, filenames[i]), os.path.join(val_folder, label, filenames[i]))\n",
    "            else:\n",
    "                shutil.copy(os.path.join(folder, label, filenames[i]), os.path.join(train_folder, label, filenames[i]))\n",
    "\n",
    "os.rename(\"./archive/vinted_train\", \"./archive/vinted\")\n",
    "make_train_val(folder=\"archive/vinted\", divider=5)\n",
    "shutil.rmtree(\"./archive/vinted\")"
   ]
  },
  {
   "cell_type": "code",
   "execution_count": 3,
   "metadata": {},
   "outputs": [
    {
     "name": "stderr",
     "output_type": "stream",
     "text": [
      "Removing classes with less than 100 images: 100%|██████████| 21/21 [00:00<00:00, 404.71it/s]\n"
     ]
    }
   ],
   "source": [
    "# then run this script to remove all classes with not enough images\n",
    "# for example, if you have less than X images in the folder vinted_train you can remove it\n",
    "\n",
    "min_nr_images = 100\n",
    "\n",
    "for folder in [\"./archive/vinted_train\"]:\n",
    "    for label in tqdm(os.listdir(folder), desc=f\"Removing classes with less than {min_nr_images} images\"):\n",
    "        if not os.path.isdir(os.path.join(folder, label)):\n",
    "            continue\n",
    "        if len(os.listdir(os.path.join(folder, label))) < min_nr_images:\n",
    "            shutil.rmtree(os.path.join(folder, label))\n",
    "            if os.path.isdir(os.path.join(\"./archive/vinted_val\", label)):\n",
    "                shutil.rmtree(os.path.join(\"./archive/vinted_val\", label))\n",
    "            if os.path.isdir(os.path.join(\"./archive/vinted_test_only\", label)):\n",
    "                shutil.rmtree(os.path.join(\"./archive/vinted_test_only\", label))"
   ]
  },
  {
   "cell_type": "code",
   "execution_count": null,
   "metadata": {},
   "outputs": [],
   "source": []
  }
 ],
 "metadata": {
  "interpreter": {
   "hash": "99a09a28db2abc902dc27962799ddbecdaff6b4113c1c96ddbf0d99fba103f0a"
  },
  "kernelspec": {
   "display_name": "env",
   "language": "python",
   "name": "env"
  },
  "language_info": {
   "codemirror_mode": {
    "name": "ipython",
    "version": 3
   },
   "file_extension": ".py",
   "mimetype": "text/x-python",
   "name": "python",
   "nbconvert_exporter": "python",
   "pygments_lexer": "ipython3",
   "version": "3.8.10"
  },
  "orig_nbformat": 4
 },
 "nbformat": 4,
 "nbformat_minor": 2
}
