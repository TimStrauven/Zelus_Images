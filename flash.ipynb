{
 "cells": [
  {
   "cell_type": "code",
   "execution_count": null,
   "metadata": {},
   "outputs": [],
   "source": [
    "# !pip install 'lightning-flash[image]'\n",
    "\n",
    "import torch\n",
    "\n",
    "import flash\n",
    "from flash.image import ImageClassificationData, ImageClassifier\n",
    "\n",
    "# 1. Create the DataModule\n",
    "datamodule = ImageClassificationData.from_folders(\n",
    "    train_folder=\"./archive/vinted_train\",\n",
    "    val_folder=\"./archive/vinted_val\",\n",
    "    batch_size=4,\n",
    "    num_workers=6,\n",
    "    transform_kwargs={\"image_size\": (100, 100), \"mean\": (0.485, 0.456, 0.406), \"std\": (0.229, 0.224, 0.225)},\n",
    ")\n",
    "\n",
    "# 2. Build the task\n",
    "model = ImageClassifier(backbone=\"mobilenetv3_small_100\", labels=datamodule.labels)\n",
    "\n",
    "# 3. Create the trainer and finetune the model\n",
    "#trainer = flash.Trainer(max_epochs=3, gpus=torch.cuda.device_count())\n",
    "trainer = flash.Trainer(max_epochs=1, gpus=1)\n",
    "#trainer = flash.Trainer(max_epochs=3, tpu_cores=8)\n",
    "trainer.finetune(model, datamodule=datamodule, strategy=\"freeze\")\n",
    "\n",
    "#save model\n",
    "trainer.save_checkpoint(\"image_classification_model.pt\")"
   ]
  },
  {
   "cell_type": "code",
   "execution_count": 3,
   "metadata": {},
   "outputs": [
    {
     "name": "stderr",
     "output_type": "stream",
     "text": [
      "GPU available: True, used: True\n",
      "TPU available: False, using: 0 TPU cores\n",
      "IPU available: False, using: 0 IPUs\n",
      "HPU available: False, using: 0 HPUs\n",
      "Using 'mobilenetv3_small_100' provided by rwightman/pytorch-image-models (https://github.com/rwightman/pytorch-image-models).\n",
      "No pretrained weights exist for this model. Using random initialization.\n",
      "LOCAL_RANK: 0 - CUDA_VISIBLE_DEVICES: [0]\n"
     ]
    },
    {
     "name": "stdout",
     "output_type": "stream",
     "text": [
      "Predicting DataLoader 0:   6%|▌         | 366/6020 [12:00<3:05:24,  1.97s/it]]\n",
      "Predicting DataLoader 0: 100%|██████████| 24077/24077 [22:47<00:00, 17.60it/s]\n"
     ]
    }
   ],
   "source": [
    "\n",
    "import torch\n",
    "import flash\n",
    "from flash.image import ImageClassificationData, ImageClassifier\n",
    "from torchmetrics.functional import accuracy\n",
    "import os\n",
    "\n",
    "testfiles = []\n",
    "dirlabels = []\n",
    "for directory, _, files in os.walk(\"./archive/vinted_test_only\"):\n",
    "    for file in files:\n",
    "        if file.endswith(\".jpeg\"):\n",
    "            testfiles.append(os.path.join(directory, file))\n",
    "            dirlabels.append(directory.split(\"/\")[-1])\n",
    "\n",
    "datamodule = ImageClassificationData.from_files(\n",
    "    predict_files=testfiles,\n",
    "    batch_size=1,\n",
    "    num_workers=6,\n",
    "    transform_kwargs={\"image_size\": (100, 100), \"mean\": (0.485, 0.456, 0.406), \"std\": (0.229, 0.224, 0.225)},\n",
    ")\n",
    "\n",
    "trainer = flash.Trainer(max_epochs=1, gpus=1)\n",
    "model = ImageClassifier.load_from_checkpoint(\"image_classification_model.pt\")\n",
    "\n",
    "predictions = trainer.predict(model, datamodule=datamodule, output=\"labels\")\n"
   ]
  },
  {
   "cell_type": "code",
   "execution_count": 5,
   "metadata": {},
   "outputs": [
    {
     "name": "stdout",
     "output_type": "stream",
     "text": [
      "24077\n"
     ]
    }
   ],
   "source": [
    "import pandas as pd\n",
    "\n",
    "\"add the datamodule labels and the predictions to a new dataframe\"\n",
    "df = pd.DataFrame({\"real_img\": dirlabels, \"pred_img\": predictions})\n",
    "df.to_csv('predictions.csv', index=False)"
   ]
  },
  {
   "cell_type": "code",
   "execution_count": 22,
   "metadata": {},
   "outputs": [
    {
     "name": "stdout",
     "output_type": "stream",
     "text": [
      "tensor(0.0020)\n"
     ]
    }
   ],
   "source": [
    "import numpy as np\n",
    "from sklearn import preprocessing\n",
    "\n",
    "df = pd.read_csv('predictions.csv')\n",
    "\n",
    "\"convert the dataframe values to integers using sklearn labelencoder\"\n",
    "df = df.apply(preprocessing.LabelEncoder().fit_transform)\n",
    "\n",
    "\"create torch tensors from the dataframe\"\n",
    "target_tens = torch.tensor(df['real_img'])\n",
    "preds_tens = torch.tensor(df['pred_img'])\n",
    "\n",
    "\n",
    "acc = accuracy(preds_tens, target_tens)\n",
    "print(acc)"
   ]
  },
  {
   "cell_type": "code",
   "execution_count": 23,
   "metadata": {},
   "outputs": [
    {
     "data": {
      "text/plain": [
       "tensor(0.0020)"
      ]
     },
     "execution_count": 23,
     "metadata": {},
     "output_type": "execute_result"
    }
   ],
   "source": [
    "datamodule = ImageClassificationData.from_folders(\n",
    "    train_folder=\"./archive/vinted_train\",\n",
    "    val_folder=\"./archive/vinted_val\",\n",
    "    batch_size=4,\n",
    "    num_workers=6,\n",
    "    transform_kwargs={\"image_size\": (100, 100), \"mean\": (0.485, 0.456, 0.406), \"std\": (0.229, 0.224, 0.225)},\n",
    ")\n",
    "\n",
    "le = preprocessing.LabelEncoder()\n",
    "le.fit(datamodule.labels)\n",
    "\n",
    "from torchmetrics import F1Score\n",
    "f1 = F1Score(num_classes=len(le.classes_))\n",
    "f1(preds_tens, target_tens)"
   ]
  },
  {
   "cell_type": "code",
   "execution_count": 29,
   "metadata": {},
   "outputs": [],
   "source": [
    "# confusion matrix using pytorch\n",
    "from torchmetrics import ConfusionMatrix\n",
    "confmat = ConfusionMatrix(num_classes=len(le.classes_))\n",
    "confmat(preds_tens, target_tens)\n",
    "\n",
    "\n",
    "# confusion matrix using sklearn, plot is useless\n",
    "import seaborn as sn\n",
    "import matplotlib.pyplot as plt\n",
    "from sklearn.metrics import confusion_matrix\n",
    "\n",
    "cf_matrix = confusion_matrix(preds_tens, target_tens)\n",
    "\n",
    "df_cm = pd.DataFrame(cf_matrix/np.sum(cf_matrix) *10, index = [i for i in le.classes_],\n",
    "                     columns = [i for i in le.classes_])\n",
    "plt.figure(figsize = (12,7))\n",
    "sn.heatmap(df_cm, annot=True)\n",
    "plt.savefig('output.png')"
   ]
  },
  {
   "cell_type": "code",
   "execution_count": null,
   "metadata": {},
   "outputs": [],
   "source": []
  }
 ],
 "metadata": {
  "interpreter": {
   "hash": "6e86508cb037848a713cbc42a72c58e758877eb9551185311b4801f12bccd8c3"
  },
  "kernelspec": {
   "display_name": "Python 3.8.10 ('env': venv)",
   "language": "python",
   "name": "python3"
  },
  "language_info": {
   "codemirror_mode": {
    "name": "ipython",
    "version": 3
   },
   "file_extension": ".py",
   "mimetype": "text/x-python",
   "name": "python",
   "nbconvert_exporter": "python",
   "pygments_lexer": "ipython3",
   "version": "3.8.10"
  },
  "orig_nbformat": 4
 },
 "nbformat": 4,
 "nbformat_minor": 2
}
